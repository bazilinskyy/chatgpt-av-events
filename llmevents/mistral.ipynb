{
 "cells": [
  {
   "cell_type": "code",
   "execution_count": null,
   "metadata": {},
   "outputs": [],
   "source": [
    "import os\n",
    "from mistralai import Mistral\n",
    "\n",
    "api_key = os.environ[\"MISTRAL_API_KEY\"]\n",
    "client = Mistral(api_key=api_key)"
   ]
  },
  {
   "cell_type": "markdown",
   "metadata": {},
   "source": [
    "## Uploaded pdf "
   ]
  },
  {
   "cell_type": "code",
   "execution_count": null,
   "metadata": {},
   "outputs": [],
   "source": [
    "# Import required libraries\n",
    "from pathlib import Path\n",
    "from mistralai import DocumentURLChunk, ImageURLChunk, TextChunk\n",
    "import json\n",
    "\n",
    "# Verify PDF file exists\n",
    "pdf_file = Path(\"mistral7b.pdf\")\n",
    "assert pdf_file.is_file()\n",
    "\n",
    "# Upload PDF file to Mistral's OCR service\n",
    "uploaded_file = client.files.upload(\n",
    "    file={\n",
    "        \"file_name\": pdf_file.stem,\n",
    "        \"content\": pdf_file.read_bytes(),\n",
    "    },\n",
    "    purpose=\"ocr\",\n",
    ")\n",
    "\n",
    "# Get URL for the uploaded file\n",
    "signed_url = client.files.get_signed_url(file_id=uploaded_file.id, expiry=1)\n",
    "\n",
    "# Process PDF with OCR, including embedded images\n",
    "pdf_response = client.ocr.process(\n",
    "    document=DocumentURLChunk(document_url=signed_url.url),\n",
    "    model=\"mistral-ocr-latest\",\n",
    "    include_image_base64=True\n",
    ")\n",
    "\n",
    "# Convert response to JSON format\n",
    "response_dict = json.loads(pdf_response.model_dump_json())\n",
    "\n",
    "print(json.dumps(response_dict, indent=4)[0:1000]) # check the first 1000 characters\n"
   ]
  },
  {
   "cell_type": "markdown",
   "metadata": {},
   "source": [
    "## Process Image"
   ]
  },
  {
   "cell_type": "code",
   "execution_count": null,
   "metadata": {},
   "outputs": [],
   "source": [
    "import base64\n",
    "import requests\n",
    "import os\n",
    "from mistralai import Mistral\n",
    "\n",
    "def encode_image(image_path):\n",
    "    \"\"\"Encode the image to base64.\"\"\"\n",
    "    try:\n",
    "        with open(image_path, \"rb\") as image_file:\n",
    "            return base64.b64encode(image_file.read()).decode('utf-8')\n",
    "    except FileNotFoundError:\n",
    "        print(f\"Error: The file {image_path} was not found.\")\n",
    "        return None\n",
    "    except Exception as e:  # Added general exception handling\n",
    "        print(f\"Error: {e}\")\n",
    "        return None\n",
    "\n",
    "# Path to your image\n",
    "image_path = \"path_to_your_image.jpg\"\n",
    "\n",
    "# Getting the base64 string\n",
    "base64_image = encode_image(image_path)\n",
    "\n",
    "api_key = os.environ[\"MISTRAL_API_KEY\"]\n",
    "client = Mistral(api_key=api_key)\n",
    "\n",
    "ocr_response = client.ocr.process(\n",
    "    model=\"mistral-ocr-latest\",\n",
    "    document={\n",
    "        \"type\": \"image_url\",\n",
    "        \"image_url\": f\"data:image/jpeg;base64,{base64_image}\" \n",
    "    }\n",
    ")"
   ]
  },
  {
   "cell_type": "markdown",
   "metadata": {},
   "source": [
    "#### Tutorial link: \n",
    "https://colab.research.google.com/github/mistralai/cookbook/blob/main/mistral/ocr/structured_ocr.ipynb#scrollTo=svaJGBFlqm7_"
   ]
  }
 ],
 "metadata": {
  "kernelspec": {
   "display_name": "BioDeepL",
   "language": "python",
   "name": "python3"
  },
  "language_info": {
   "codemirror_mode": {
    "name": "ipython",
    "version": 3
   },
   "file_extension": ".py",
   "mimetype": "text/x-python",
   "name": "python",
   "nbconvert_exporter": "python",
   "pygments_lexer": "ipython3",
   "version": "3.9.16"
  }
 },
 "nbformat": 4,
 "nbformat_minor": 2
}
